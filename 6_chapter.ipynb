{
 "cells": [
  {
   "cell_type": "code",
   "execution_count": 1,
   "metadata": {},
   "outputs": [],
   "source": [
    "class Heap(list):\n",
    "    def __init__(self, iterable=(), heap_size=None):\n",
    "        self.heap_size = heap_size or len(iterable)\n",
    "        super().__init__(iterable)\n"
   ]
  },
  {
   "cell_type": "code",
   "execution_count": 68,
   "metadata": {},
   "outputs": [],
   "source": [
    "def parent(i):\n",
    "    return i // 2\n",
    "\n",
    "\n",
    "def left(i):\n",
    "    return 2 * i\n",
    "\n",
    "\n",
    "def right(i):\n",
    "    return 2 * i + 1"
   ]
  },
  {
   "cell_type": "code",
   "execution_count": 8,
   "metadata": {},
   "outputs": [
    {
     "name": "stdout",
     "output_type": "stream",
     "text": [
      "[16, 14, 10, 8, 7, 9, 3, 2, 4, 1]\n"
     ]
    }
   ],
   "source": [
    "def max_heapify(arr, i):\n",
    "    i += 1\n",
    "#     print(i)\n",
    "    l = left(i)\n",
    "    r = right(i)\n",
    "#     print(arr[i - 1])\n",
    "    if l <= arr.heap_size and arr[l - 1] > arr[i - 1]:\n",
    "        largest = l\n",
    "    else:\n",
    "        largest = i\n",
    "    if r <= arr.heap_size and arr[r - 1] > arr[largest - 1]:\n",
    "        largest = r\n",
    "    if largest != i:\n",
    "        tmp = arr[i - 1]\n",
    "        arr[i - 1] = arr[largest - 1]\n",
    "        arr[largest - 1] = tmp\n",
    "        max_heapify(arr, largest - 1)\n",
    "\n",
    "a = Heap([16, 4, 10, 14, 7, 9, 3, 2, 8, 1])\n",
    "max_heapify(a, 1)\n",
    "print(a)"
   ]
  },
  {
   "cell_type": "code",
   "execution_count": 27,
   "metadata": {},
   "outputs": [
    {
     "name": "stdout",
     "output_type": "stream",
     "text": [
      "[84, 22, 19, 10, 3, 17, 6, 5, 9]\n"
     ]
    }
   ],
   "source": [
    "def build_max_heap(arr):\n",
    "    arr.heap_size = len(arr)\n",
    "    for i in range(len(arr) // 2, -1, -1):\n",
    "        max_heapify(arr, i)\n",
    "\n",
    "a = Heap([5, 3, 17, 10, 84, 19, 6, 22, 9])\n",
    "build_max_heap(a)\n",
    "print(a)"
   ]
  },
  {
   "cell_type": "markdown",
   "metadata": {},
   "source": [
    "### ^ 6.3.1"
   ]
  },
  {
   "cell_type": "code",
   "execution_count": 23,
   "metadata": {},
   "outputs": [
    {
     "name": "stdout",
     "output_type": "stream",
     "text": [
      "[2, 4, 5, 7, 8, 13, 17, 20, 25]\n"
     ]
    }
   ],
   "source": [
    "def heapsort(arr):\n",
    "    build_max_heap(arr)\n",
    "    for i in range(len(arr) - 1, 0, -1):\n",
    "        tmp = arr[0]\n",
    "        arr[0] = arr[i]\n",
    "        arr[i] = tmp\n",
    "        arr.heap_size = arr.heap_size - 1\n",
    "        max_heapify(arr, 0)\n",
    "\n",
    "a = Heap([5, 13, 2, 25, 7, 17, 20, 8, 4])\n",
    "heapsort(a)\n",
    "print(a)"
   ]
  },
  {
   "cell_type": "markdown",
   "metadata": {},
   "source": [
    "### ^ 6.4.1"
   ]
  },
  {
   "cell_type": "code",
   "execution_count": null,
   "metadata": {},
   "outputs": [],
   "source": []
  },
  {
   "cell_type": "code",
   "execution_count": 24,
   "metadata": {},
   "outputs": [],
   "source": [
    "def heap_maximum(arr):\n",
    "    return arr[0]"
   ]
  },
  {
   "cell_type": "code",
   "execution_count": 28,
   "metadata": {},
   "outputs": [
    {
     "name": "stdout",
     "output_type": "stream",
     "text": [
      "[84, 22, 19, 10, 3, 17, 6, 5, 9]\n",
      "84\n",
      "[22, 10, 19, 9, 3, 17, 6, 5, 9]\n"
     ]
    }
   ],
   "source": [
    "def heap_extraxt_max(arr):\n",
    "    if arr.heap_size < 1:\n",
    "        raise ValueError('Queue is empty')\n",
    "    max_ = arr[0]\n",
    "    arr[0] = arr[arr.heap_size - 1]\n",
    "    arr.heap_size = arr.heap_size - 1\n",
    "    max_heapify(arr, 0)\n",
    "    return max_\n",
    "\n",
    "a = Heap([5, 3, 17, 10, 84, 19, 6, 22, 9])\n",
    "build_max_heap(a)\n",
    "print(a)\n",
    "max_ = heap_extraxt_max(a)\n",
    "print(max_)\n",
    "print(a)"
   ]
  },
  {
   "cell_type": "code",
   "execution_count": 149,
   "metadata": {},
   "outputs": [
    {
     "name": "stdout",
     "output_type": "stream",
     "text": [
      "[84, 22, 23, 10, 3, 17, 6, 5, 9]\n",
      "[100, 22, 84, 10, 3, 23, 6, 5, 9]\n"
     ]
    }
   ],
   "source": [
    "def heap_increase_key(arr, i, key):\n",
    "    if key < arr[i]:\n",
    "        raise ValueError('New key is smaller than current key')\n",
    "    arr[i] = key\n",
    "    while i > 0 and arr[parent(i + 1) - 1] < arr[i]:\n",
    "#         print(i, parent(i), arr[parent(i + 1)], arr[i])\n",
    "        tmp = arr[i]\n",
    "        arr[i] = arr[parent(i + 1) - 1]\n",
    "        arr[parent(i + 1) - 1] = tmp\n",
    "        i = parent(i + 1) - 1\n",
    "#         print(i)\n",
    "\n",
    "# a = Heap([5, 3, 17, 10, 84, 19, 6, 22, 9])\n",
    "a = Heap([84, 22, 23, 10, 3, 17, 6, 5, 9])\n",
    "build_max_heap(a)\n",
    "print(a)\n",
    "heap_increase_key(a, 5, 100)\n",
    "print(a)"
   ]
  },
  {
   "cell_type": "code",
   "execution_count": 150,
   "metadata": {},
   "outputs": [
    {
     "name": "stdout",
     "output_type": "stream",
     "text": [
      "[15, 13, 9, 5, 12, 8, 7, 4, 0, 6, 2, 1]\n",
      "[15, 13, 10, 5, 12, 9, 7, 4, 0, 6, 2, 1, 8]\n"
     ]
    }
   ],
   "source": [
    "def max_heap_insert(arr, key):\n",
    "    arr.heap_size = arr.heap_size + 1\n",
    "    arr.append(-float('inf'))\n",
    "    heap_increase_key(arr, arr.heap_size - 1, key)\n",
    "    \n",
    "arr = Heap([15,13,9,5,12,8,7,4,0,6,2,1])\n",
    "build_max_heap(arr)\n",
    "print(arr)\n",
    "max_heap_insert(arr, 10)\n",
    "print(arr)"
   ]
  },
  {
   "cell_type": "markdown",
   "metadata": {},
   "source": [
    "### 6.1"
   ]
  },
  {
   "cell_type": "code",
   "execution_count": 1,
   "metadata": {},
   "outputs": [
    {
     "data": {
      "text/plain": [
       "array([[ 2.,  3.,  4.],\n",
       "       [ 5.,  8.,  9.],\n",
       "       [12., 14., 16.]])"
      ]
     },
     "execution_count": 1,
     "metadata": {},
     "output_type": "execute_result"
    }
   ],
   "source": [
    "import numpy as np\n",
    "Y = np.array([(2,3,4), (5,8,9), (12,14,16)],dtype=np.float)\n",
    "Y"
   ]
  },
  {
   "cell_type": "code",
   "execution_count": 2,
   "metadata": {},
   "outputs": [
    {
     "data": {
      "text/plain": [
       "2.0"
      ]
     },
     "execution_count": 2,
     "metadata": {},
     "output_type": "execute_result"
    }
   ],
   "source": [
    "def extract_min_yt(Y,i,j):\n",
    "    minimum = Y[i,j]\n",
    "    Y[i,j] = float('inf')\n",
    "    if i >= Y.shape[0]-1 or j >= Y.shape[1]-1:\n",
    "        return minimum\n",
    "    if Y[i,j+1] == Y[i+1,j] == float('inf'):\n",
    "        Y[i,j] = float('inf')\n",
    "        return minimum\n",
    "    if Y[i,j+1] < Y[i+1,j]:\n",
    "        Y[i,j] = Y[i,j+1]\n",
    "        Y[i,j+1]=minimum\n",
    "        return extract_min_yt(Y,i,j+1)\n",
    "    else:\n",
    "        Y[i,j] = Y[i+1,j]\n",
    "        Y[i+1,j]=minimum\n",
    "        return extract_min_yt(Y,i+1,j)\n",
    "    \n",
    "\n",
    "extract_min_yt(Y,0,0)"
   ]
  },
  {
   "cell_type": "markdown",
   "metadata": {},
   "source": [
    "### 6.2"
   ]
  },
  {
   "cell_type": "code",
   "execution_count": 2,
   "metadata": {},
   "outputs": [],
   "source": [
    "def parent_d(i, d):\n",
    "    return (i - 2) // d + 1\n",
    "\n",
    "\n",
    "def child_d(i, j, d):\n",
    "    if j > d:\n",
    "        raise ValueError('j-th element is bigger than d of heap')\n",
    "    return d * (i - 1) + j + 1"
   ]
  },
  {
   "cell_type": "code",
   "execution_count": 11,
   "metadata": {},
   "outputs": [
    {
     "name": "stdout",
     "output_type": "stream",
     "text": [
      "[16, 9, 10, 14, 7, 4, 3, 2, 8, 1]\n"
     ]
    }
   ],
   "source": [
    "def max_heapify_d(arr, i, d):\n",
    "    i += 1\n",
    "#     print(i)\n",
    "    childs = [child_d(i, j, d) for j in range(1, d + 1)]\n",
    "#     print('childs', childs)\n",
    "    largest = i\n",
    "    for child in childs:\n",
    "#         print(arr[child - 1], largest - 1, arr[largest - 1])\n",
    "        if child <= arr.heap_size and arr[child - 1] > arr[largest - 1]:\n",
    "            largest = child\n",
    "    if largest != i:\n",
    "        tmp = arr[i - 1]\n",
    "        arr[i - 1] = arr[largest - 1]\n",
    "        arr[largest - 1] = tmp\n",
    "        max_heapify_d(arr, largest - 1, d)\n",
    "\n",
    "\n",
    "a = Heap([16, 4, 10, 14, 7, 9, 3, 2, 8, 1])\n",
    "max_heapify_d(a, 1, 3)\n",
    "print(a)"
   ]
  },
  {
   "cell_type": "code",
   "execution_count": 13,
   "metadata": {},
   "outputs": [
    {
     "name": "stdout",
     "output_type": "stream",
     "text": [
      "[84, 19, 22, 10, 3, 5, 6, 17, 9]\n"
     ]
    }
   ],
   "source": [
    "def build_max_heap_d(arr, d):\n",
    "    arr.heap_size = len(arr)\n",
    "    for i in range(parent_d(len(arr), d), -1, -1):\n",
    "#         print(i, arr)\n",
    "        max_heapify_d(arr, i, d)\n",
    "\n",
    "\n",
    "a = Heap([5, 3, 17, 10, 84, 19, 6, 22, 9])\n",
    "build_max_heap_d(a, 3)\n",
    "print(a)"
   ]
  },
  {
   "cell_type": "code",
   "execution_count": 18,
   "metadata": {},
   "outputs": [
    {
     "name": "stdout",
     "output_type": "stream",
     "text": [
      "[2, 4, 5, 7, 8, 13, 17, 20, 25]\n"
     ]
    }
   ],
   "source": [
    "def heapsort_d(arr, d):\n",
    "    build_max_heap_d(arr, d)\n",
    "    for i in range(len(arr) - 1, 0, -1):\n",
    "        tmp = arr[0]\n",
    "        arr[0] = arr[i]\n",
    "        arr[i] = tmp\n",
    "        arr.heap_size = arr.heap_size - 1\n",
    "        max_heapify_d(arr, 0, d)\n",
    "\n",
    "a = Heap([5, 13, 2, 25, 7, 17, 20, 8, 4])\n",
    "heapsort_d(a, 2)\n",
    "print(a)"
   ]
  },
  {
   "cell_type": "code",
   "execution_count": 20,
   "metadata": {},
   "outputs": [
    {
     "name": "stdout",
     "output_type": "stream",
     "text": [
      "[3, 5, 6, 9, 10, 17, 19, 22, 84]\n"
     ]
    }
   ],
   "source": [
    "a = Heap([5, 3, 17, 10, 84, 19, 6, 22, 9])\n",
    "heapsort_d(a, 10)\n",
    "print(a)"
   ]
  },
  {
   "cell_type": "code",
   "execution_count": 35,
   "metadata": {},
   "outputs": [
    {
     "name": "stdout",
     "output_type": "stream",
     "text": [
      "[84, 19, 22, 10, 3, 5, 6, 17, 9, 1]\n",
      "84\n",
      "[22, 19, 17, 10, 3, 5, 6, 1, 9, 1]\n",
      "9 10\n"
     ]
    }
   ],
   "source": [
    "def heap_extraxt_max_d(arr, d):\n",
    "    if arr.heap_size < 1:\n",
    "        raise ValueError('Queue is empty')\n",
    "    max_ = arr[0]\n",
    "    arr[0] = arr[arr.heap_size - 1]\n",
    "    arr.heap_size = arr.heap_size - 1\n",
    "    max_heapify_d(arr, 0, d)\n",
    "    return max_\n",
    "\n",
    "a = Heap([5, 3, 17, 10, 84, 19, 6, 22, 9, 1])\n",
    "build_max_heap_d(a, 3)\n",
    "print(a)\n",
    "max_ = heap_extraxt_max_d(a, 3)\n",
    "print(max_)\n",
    "print(a)\n",
    "print(a.heap_size, len(a))"
   ]
  },
  {
   "cell_type": "code",
   "execution_count": 34,
   "metadata": {},
   "outputs": [
    {
     "data": {
      "text/plain": [
       "[16, 4, 10, 14, 7, 9, 3, 2, 8, 100]"
      ]
     },
     "execution_count": 34,
     "metadata": {},
     "output_type": "execute_result"
    }
   ],
   "source": [
    "a = Heap([16, 4, 10, 14, 7, 9, 3, 2, 8, 100])\n",
    "a.heap_size = len(a) - 1\n",
    "max_heapify_d(a, 0, 3)\n",
    "a"
   ]
  },
  {
   "cell_type": "code",
   "execution_count": 157,
   "metadata": {},
   "outputs": [
    {
     "name": "stdout",
     "output_type": "stream",
     "text": [
      "[84, 19, 22, 10, 3, 5, 6, 17, 9]\n",
      "[84, 19, 23, 10, 3, 5, 6, 22, 9]\n"
     ]
    }
   ],
   "source": [
    "def heap_increase_key_d(arr, i, key, d):\n",
    "    if key < arr[i]:\n",
    "        raise ValueError('New key is smaller than current key')\n",
    "    arr[i] = key\n",
    "#     print(arr[parent_d(i + 1, d) - 1], arr[i])\n",
    "    while i > 0 and arr[parent_d(i + 1, d) - 1] < arr[i]:\n",
    "#         print(i, arr[i], parent_d(i + 1, d) - 1, arr[parent_d(i + 1, d) - 1])\n",
    "        tmp = arr[i]\n",
    "        arr[i] = arr[parent_d(i + 1, d) - 1]\n",
    "        arr[parent_d(i + 1, d) - 1] = tmp\n",
    "#         print(arr[i], arr[parent_d(i + 1, d) - 1])\n",
    "        i = parent_d(i + 1, d) - 1\n",
    "\n",
    "# a = Heap([5, 3, 17, 10, 84, 19, 6, 22, 9])\n",
    "a = Heap([84, 19, 22, 10, 3, 5, 6, 17, 9])\n",
    "d = 3\n",
    "build_max_heap_d(a, d)\n",
    "print(a)\n",
    "heap_increase_key_d(a, 7, 23, d)\n",
    "print(a)"
   ]
  },
  {
   "cell_type": "code",
   "execution_count": null,
   "metadata": {},
   "outputs": [],
   "source": []
  },
  {
   "cell_type": "code",
   "execution_count": 161,
   "metadata": {},
   "outputs": [
    {
     "name": "stdout",
     "output_type": "stream",
     "text": [
      "[15, 13, 9, 5, 12, 8, 7, 4, 0, 6, 2, 1]\n",
      "[15, 13, 9, 14, 12, 8, 7, 4, 0, 6, 2, 1, 5]\n"
     ]
    }
   ],
   "source": [
    "def max_heap_insert_d(arr, key, d):\n",
    "    arr.heap_size = arr.heap_size + 1\n",
    "    arr.append(-float('inf'))\n",
    "    heap_increase_key_d(arr, arr.heap_size - 1, key, d)\n",
    "    \n",
    "arr = Heap([15,13,9,5,12,8,7,4,0,6,2,1])\n",
    "d = 3\n",
    "build_max_heap_d(arr, d)\n",
    "print(arr)\n",
    "max_heap_insert_d(arr, 14, d)\n",
    "print(arr)"
   ]
  },
  {
   "cell_type": "code",
   "execution_count": null,
   "metadata": {},
   "outputs": [],
   "source": []
  },
  {
   "cell_type": "markdown",
   "metadata": {},
   "source": [
    "### 6.3"
   ]
  },
  {
   "cell_type": "code",
   "execution_count": 163,
   "metadata": {},
   "outputs": [],
   "source": [
    "def min_heapify_d(arr, i, d):\n",
    "    i += 1\n",
    "    childs = [child_d(i, j, d) for j in range(1, d + 1)]\n",
    "    largest = i\n",
    "    for child in childs:\n",
    "        if child <= arr.heap_size and arr[child - 1] < arr[largest - 1]:\n",
    "            largest = child\n",
    "    if largest != i:\n",
    "        tmp = arr[i - 1]\n",
    "        arr[i - 1] = arr[largest - 1]\n",
    "        arr[largest - 1] = tmp\n",
    "        max_heapify_d(arr, largest - 1, d)\n",
    "        \n",
    "\n",
    "def build_min_heap_d(arr, d):\n",
    "    arr.heap_size = len(arr)\n",
    "    for i in range(parent_d(len(arr), d), -1, -1):\n",
    "#         print(i, arr)\n",
    "        min_heapify_d(arr, i, d)"
   ]
  },
  {
   "cell_type": "code",
   "execution_count": 240,
   "metadata": {},
   "outputs": [],
   "source": [
    "n, m = 5, 5"
   ]
  },
  {
   "cell_type": "code",
   "execution_count": 242,
   "metadata": {},
   "outputs": [
    {
     "data": {
      "text/plain": [
       "[2, 5, 3, 9, 4, 8, 16, 14, 12, 19, 21, 22, 32, 3]"
      ]
     },
     "execution_count": 242,
     "metadata": {},
     "output_type": "execute_result"
    }
   ],
   "source": [
    "a = Heap([9, 16, 3, 2, 4, 8, 5, 14, 12, 19, 21, 22, 32, 3])\n",
    "build_min_heap_d(a, m - 1)\n",
    "a"
   ]
  },
  {
   "cell_type": "code",
   "execution_count": 235,
   "metadata": {},
   "outputs": [
    {
     "data": {
      "text/plain": [
       "array([[ 2.,  3.,  4.,  5.,  9.],\n",
       "       [ 8., 12., 14., 16., inf],\n",
       "       [19., 21., 22., 32., inf],\n",
       "       [ 3., inf, inf, inf, inf],\n",
       "       [inf, inf, inf, inf, inf]])"
      ]
     },
     "execution_count": 235,
     "metadata": {},
     "output_type": "execute_result"
    }
   ],
   "source": [
    "import numpy as np\n",
    "\n",
    "matrix = []\n",
    "ii = 0\n",
    "for i in range(n):\n",
    "    k = m - 2\n",
    "    if i == 0:\n",
    "        k += 1\n",
    "    else:\n",
    "        ii += m - 1 \n",
    "#     print(ii, k)\n",
    "    row = a[ii:ii+k+1]\n",
    "    if len(row) < m:\n",
    "        row = row + [float('inf') for _ in range(m - len(row))]\n",
    "#     print(sorted(row))\n",
    "    matrix.append(sorted(row))\n",
    "    if i == 0:\n",
    "        ii += 1\n",
    "    \n",
    "np.array(matrix)            "
   ]
  },
  {
   "cell_type": "code",
   "execution_count": null,
   "metadata": {},
   "outputs": [],
   "source": []
  },
  {
   "cell_type": "code",
   "execution_count": null,
   "metadata": {},
   "outputs": [],
   "source": [
    "def heap_extraxt_max_d(arr, d):\n",
    "    if arr.heap_size < 1:\n",
    "        raise ValueError('Queue is empty')\n",
    "    max_ = arr[0]\n",
    "    arr[0] = arr[arr.heap_size - 1]\n",
    "    arr.heap_size = arr.heap_size - 1\n",
    "    max_heapify_d(arr, 0, d)\n",
    "    return max_\n",
    "\n",
    "a = Heap([5, 3, 17, 10, 84, 19, 6, 22, 9, 1])\n",
    "build_max_heap_d(a, 3)\n",
    "print(a)\n",
    "max_ = heap_extraxt_max_d(a, 3)\n",
    "print(max_)\n",
    "print(a)\n",
    "print(a.heap_size, len(a))"
   ]
  }
 ],
 "metadata": {
  "kernelspec": {
   "display_name": "Python 3",
   "language": "python",
   "name": "python3"
  },
  "language_info": {
   "codemirror_mode": {
    "name": "ipython",
    "version": 3
   },
   "file_extension": ".py",
   "mimetype": "text/x-python",
   "name": "python",
   "nbconvert_exporter": "python",
   "pygments_lexer": "ipython3",
   "version": "3.7.6"
  }
 },
 "nbformat": 4,
 "nbformat_minor": 4
}
