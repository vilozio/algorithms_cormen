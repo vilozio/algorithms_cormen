{
 "cells": [
  {
   "cell_type": "markdown",
   "metadata": {},
   "source": [
    "## 7.1"
   ]
  },
  {
   "cell_type": "code",
   "execution_count": 28,
   "metadata": {},
   "outputs": [
    {
     "name": "stdout",
     "output_type": "stream",
     "text": [
      "[2, 1, 3, 4, 7, 5, 6, 8] 3\n"
     ]
    }
   ],
   "source": [
    "def partition(arr, p, r):\n",
    "    x = arr[r]\n",
    "    i = p - 1\n",
    "    for j in range(p, r):\n",
    "        if arr[j] <= x:\n",
    "            i += 1\n",
    "            tmp = arr[j]\n",
    "            arr[j] = arr[i]\n",
    "            arr[i] = tmp\n",
    "    tmp = arr[i + 1]\n",
    "    arr[i + 1] = arr[r]\n",
    "    arr[r] = tmp\n",
    "    return i + 1\n",
    "\n",
    "arr = [2, 8, 7, 1, 3, 5, 6, 4]\n",
    "q = partition(arr, 0, len(arr) - 1)\n",
    "print(arr, q)"
   ]
  },
  {
   "cell_type": "code",
   "execution_count": 29,
   "metadata": {},
   "outputs": [
    {
     "name": "stdout",
     "output_type": "stream",
     "text": [
      "[1, 2, 3, 4, 5, 6, 7, 8]\n"
     ]
    }
   ],
   "source": [
    "def quicksort(arr, p, r):\n",
    "    if p < r:\n",
    "        q = partition(arr, p, r)\n",
    "        quicksort(arr, p, q - 1)\n",
    "        quicksort(arr, q + 1, r)\n",
    "        \n",
    "\n",
    "def quicksort_all(arr):\n",
    "    quicksort(arr, 0, len(arr) - 1)\n",
    "\n",
    "\n",
    "arr = [2, 8, 7, 1, 3, 5, 6, 4]\n",
    "quicksort_all(arr)\n",
    "print(arr)"
   ]
  },
  {
   "cell_type": "markdown",
   "metadata": {},
   "source": [
    "### 7.1.1."
   ]
  },
  {
   "cell_type": "code",
   "execution_count": 31,
   "metadata": {},
   "outputs": [],
   "source": [
    "def partition_verbose(arr, p, r):\n",
    "    x = arr[r]\n",
    "    i = p - 1\n",
    "    for j in range(p, r):\n",
    "        if arr[j] <= x:\n",
    "            i += 1\n",
    "            tmp = arr[j]\n",
    "            arr[j] = arr[i]\n",
    "            arr[i] = tmp\n",
    "            print(arr)\n",
    "    tmp = arr[i + 1]\n",
    "    arr[i + 1] = arr[r]\n",
    "    arr[r] = tmp\n",
    "    return i + 1"
   ]
  },
  {
   "cell_type": "code",
   "execution_count": 32,
   "metadata": {},
   "outputs": [
    {
     "name": "stdout",
     "output_type": "stream",
     "text": [
      "[9, 19, 13, 5, 12, 8, 7, 4, 21, 2, 6, 11]\n",
      "[9, 5, 13, 19, 12, 8, 7, 4, 21, 2, 6, 11]\n",
      "[9, 5, 8, 19, 12, 13, 7, 4, 21, 2, 6, 11]\n",
      "[9, 5, 8, 7, 12, 13, 19, 4, 21, 2, 6, 11]\n",
      "[9, 5, 8, 7, 4, 13, 19, 12, 21, 2, 6, 11]\n",
      "[9, 5, 8, 7, 4, 2, 19, 12, 21, 13, 6, 11]\n",
      "[9, 5, 8, 7, 4, 2, 6, 12, 21, 13, 19, 11]\n",
      "[9, 5, 8, 7, 4, 2, 6, 11, 21, 13, 19, 12]\n"
     ]
    }
   ],
   "source": [
    "arr = [13, 19, 9, 5, 12, 8, 7, 4, 21, 2, 6, 11]\n",
    "partition_verbose(arr, 0, len(arr) - 1)\n",
    "print(arr)"
   ]
  },
  {
   "cell_type": "markdown",
   "metadata": {},
   "source": [
    "### 7.1.2"
   ]
  },
  {
   "cell_type": "markdown",
   "metadata": {},
   "source": [
    "If all elements are equal, then `partion` returns the last index. Example of modifying the function to return $ q = \\lfloor (p + r) / 2 \\rfloor$"
   ]
  },
  {
   "cell_type": "code",
   "execution_count": 33,
   "metadata": {},
   "outputs": [
    {
     "name": "stdout",
     "output_type": "stream",
     "text": [
      "[3, 3, 3, 3, 3, 3] 2\n"
     ]
    }
   ],
   "source": [
    "def partition_equal(arr, p, r):\n",
    "    x = arr[r]\n",
    "    i = p - 1\n",
    "    count_eq = 0\n",
    "    for j in range(p, r - 1):\n",
    "        if arr[j] <= x:\n",
    "            if arr[j] == x:\n",
    "                count_eq += 1\n",
    "            i += 1\n",
    "            tmp = arr[j]\n",
    "            arr[j] = arr[i]\n",
    "            arr[i] = tmp\n",
    "    tmp = arr[i + 1]\n",
    "    arr[i + 1] = arr[r]\n",
    "    arr[r] = tmp\n",
    "    if count_eq == r - p - 1:\n",
    "        return count_eq // 2\n",
    "    return i + 1\n",
    "\n",
    "\n",
    "arr = [3, 3, 3, 3, 3, 3]\n",
    "q = partition_equal(arr, 0, len(arr) - 1)\n",
    "print(arr, q)"
   ]
  },
  {
   "cell_type": "markdown",
   "metadata": {},
   "source": [
    "### 7.1.3"
   ]
  },
  {
   "cell_type": "markdown",
   "metadata": {},
   "source": [
    "`partion` function iterates though $n$ elements, from $p$ to $r$ indexes, every step takes constant time, so the result time is $\\Theta(n)$."
   ]
  },
  {
   "cell_type": "markdown",
   "metadata": {},
   "source": [
    "### 7.1.4"
   ]
  },
  {
   "cell_type": "code",
   "execution_count": 35,
   "metadata": {},
   "outputs": [
    {
     "name": "stdout",
     "output_type": "stream",
     "text": [
      "[8, 7, 6, 5, 4, 3, 2, 1]\n"
     ]
    }
   ],
   "source": [
    "def partition_desc(arr, p, r):\n",
    "    x = arr[r]\n",
    "    i = p - 1\n",
    "    for j in range(p, r):\n",
    "        if arr[j] >= x:    # changed comparison\n",
    "            i += 1\n",
    "            tmp = arr[j]\n",
    "            arr[j] = arr[i]\n",
    "            arr[i] = tmp\n",
    "    tmp = arr[i + 1]\n",
    "    arr[i + 1] = arr[r]\n",
    "    arr[r] = tmp\n",
    "    return i + 1\n",
    "\n",
    "\n",
    "def quicksort_desc(arr, p, r):\n",
    "    if p < r:\n",
    "        q = partition_desc(arr, p, r)\n",
    "        quicksort_desc(arr, p, q - 1)\n",
    "        quicksort_desc(arr, q + 1, r)\n",
    "\n",
    "\n",
    "arr = [2, 8, 7, 1, 3, 5, 6, 4]\n",
    "quicksort_desc(arr, 0, len(arr) - 1)\n",
    "print(arr)"
   ]
  },
  {
   "cell_type": "markdown",
   "metadata": {},
   "source": [
    "## 7.2"
   ]
  },
  {
   "cell_type": "markdown",
   "metadata": {},
   "source": [
    "### 7.2.2"
   ]
  },
  {
   "cell_type": "markdown",
   "metadata": {},
   "source": [
    "If all elements of array have the same value, then `partition` will divide it in the most unoptimal way, into one array of lengh - 1 and one empty array. The running time is $\\Theta(n^2)$."
   ]
  },
  {
   "cell_type": "markdown",
   "metadata": {},
   "source": [
    "### 7.2.3"
   ]
  },
  {
   "cell_type": "markdown",
   "metadata": {},
   "source": [
    "Similar to #7.2.2. The `partition` function will use as an anchor the lowest number in the end of array, therefore it will again divide the array into one array of lengh - 1 and one empty array. The running time is $\\Theta(n^2)$."
   ]
  },
  {
   "cell_type": "markdown",
   "metadata": {},
   "source": [
    "### 7.2.4"
   ]
  },
  {
   "cell_type": "markdown",
   "metadata": {},
   "source": []
  },
  {
   "cell_type": "markdown",
   "metadata": {},
   "source": [
    "## 7.3"
   ]
  },
  {
   "cell_type": "code",
   "execution_count": 44,
   "metadata": {},
   "outputs": [
    {
     "name": "stdout",
     "output_type": "stream",
     "text": [
      "[2, 4, 1, 3, 5, 6, 7, 8] 6\n"
     ]
    }
   ],
   "source": [
    "import random\n",
    "\n",
    "def randomized_partition(arr, p, r):\n",
    "    i = random.randint(p, r)\n",
    "    arr[r], arr[i] = arr[i], arr[r]\n",
    "    return partition(arr, p, r)\n",
    "\n",
    "\n",
    "arr = [2, 8, 7, 1, 3, 5, 6, 4]\n",
    "q = randomized_partition(arr, 0, len(arr) - 1)\n",
    "print(arr, q)"
   ]
  },
  {
   "cell_type": "code",
   "execution_count": 45,
   "metadata": {},
   "outputs": [
    {
     "name": "stdout",
     "output_type": "stream",
     "text": [
      "[1, 2, 3, 4, 5, 6, 7, 8]\n"
     ]
    }
   ],
   "source": [
    "def randomized_quicksort(arr, p, r):\n",
    "    if p < r:\n",
    "        q = randomized_partition(arr, p, r)\n",
    "        randomized_quicksort(arr, p, q - 1)\n",
    "        randomized_quicksort(arr, q + 1, r)\n",
    "\n",
    "\n",
    "arr = [2, 8, 7, 1, 3, 5, 6, 4]\n",
    "randomized_quicksort(arr, 0, len(arr) - 1)\n",
    "print(arr)"
   ]
  },
  {
   "cell_type": "markdown",
   "metadata": {},
   "source": [
    "### 7.3.1"
   ]
  },
  {
   "cell_type": "markdown",
   "metadata": {},
   "source": [
    "We analyze the expected running time of randomized algorithm because we can't really optimze it for the worst cases (all elements in array are equal, array already (almost) sorted), so we are optimizing the expected time to even more gainful solution.  "
   ]
  },
  {
   "cell_type": "markdown",
   "metadata": {},
   "source": [
    "### 7.3.2"
   ]
  },
  {
   "cell_type": "markdown",
   "metadata": {},
   "source": [
    "`randomized_partition` is called $n$ times in the worst and in the best cases, so the running time is $\\Theta(n)$."
   ]
  },
  {
   "cell_type": "markdown",
   "metadata": {},
   "source": [
    "## 7.4"
   ]
  },
  {
   "cell_type": "code",
   "execution_count": null,
   "metadata": {},
   "outputs": [],
   "source": []
  }
 ],
 "metadata": {
  "kernelspec": {
   "display_name": "Python 3",
   "language": "python",
   "name": "python3"
  },
  "language_info": {
   "codemirror_mode": {
    "name": "ipython",
    "version": 3
   },
   "file_extension": ".py",
   "mimetype": "text/x-python",
   "name": "python",
   "nbconvert_exporter": "python",
   "pygments_lexer": "ipython3",
   "version": "3.7.6"
  }
 },
 "nbformat": 4,
 "nbformat_minor": 4
}
